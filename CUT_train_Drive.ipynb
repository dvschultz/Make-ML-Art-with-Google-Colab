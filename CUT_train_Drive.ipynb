{
  "nbformat": 4,
  "nbformat_minor": 0,
  "metadata": {
    "colab": {
      "name": "CUT-train-Drive.ipynb",
      "provenance": [],
      "machine_shape": "hm",
      "authorship_tag": "ABX9TyM5SJt82NzvraBbScDkpsmg",
      "include_colab_link": true
    },
    "kernelspec": {
      "name": "python3",
      "display_name": "Python 3"
    },
    "accelerator": "GPU"
  },
  "cells": [
    {
      "cell_type": "markdown",
      "metadata": {
        "id": "view-in-github",
        "colab_type": "text"
      },
      "source": [
        "<a href=\"https://colab.research.google.com/github/dvschultz/Make-ML-Art-with-Google-Colab/blob/master/CUT_train_Drive.ipynb\" target=\"_parent\"><img src=\"https://colab.research.google.com/assets/colab-badge.svg\" alt=\"Open In Colab\"/></a>"
      ]
    },
    {
      "cell_type": "markdown",
      "metadata": {
        "id": "TVR4bEt9Ptel",
        "colab_type": "text"
      },
      "source": [
        "#CUT\n",
        "This new model uses contrastive learning (the hot technique of the moment) to better train unaligned image to image translation (i.e. CycleGAN)\n",
        "\n",
        "[GitHub](https://github.com/taesungp/contrastive-unpaired-translation) | [Website](http://taesung.me/ContrastiveUnpairedTranslation/)"
      ]
    },
    {
      "cell_type": "code",
      "metadata": {
        "id": "Xzc2aQYcXo7-",
        "colab_type": "code",
        "colab": {}
      },
      "source": [
        "from google.colab import drive\n",
        "drive.mount('/content/drive')"
      ],
      "execution_count": null,
      "outputs": []
    },
    {
      "cell_type": "code",
      "metadata": {
        "id": "RwtxgK2rYAiN",
        "colab_type": "code",
        "colab": {}
      },
      "source": [
        "import os\n",
        "if os.path.isdir(\"/content/drive/My Drive/colab-cut-test/CUT\"):\n",
        "    %cd /content/drive/My\\ Drive/colab-cut-test/CUT\n",
        "else:\n",
        "    %cd /content/drive/My\\ Drive\n",
        "    !mkdir colab-cut-test\n",
        "    %cd ./colab-cut-test/\n",
        "    !git clone https://github.com/taesungp/contrastive-unpaired-translation CUT\n",
        "    %cd CUT\n",
        "\n",
        "#dependencies\n",
        "!pip install dominate visdom GPUtil"
      ],
      "execution_count": null,
      "outputs": []
    },
    {
      "cell_type": "code",
      "metadata": {
        "id": "yN8-pVRPYO-U",
        "colab_type": "code",
        "colab": {}
      },
      "source": [
        ""
      ],
      "execution_count": null,
      "outputs": []
    },
    {
      "cell_type": "markdown",
      "metadata": {
        "id": "n1tdZoGaMOGf",
        "colab_type": "text"
      },
      "source": [
        "## Download pre-built datasets\n",
        "\n",
        "**For custom datasets:** create a folder in `./datasets` and put two folders inside it. `trainA` should contain images from one domain and `trainB` should contain images from another domain. "
      ]
    },
    {
      "cell_type": "code",
      "metadata": {
        "id": "uRI0XL6xK386",
        "colab_type": "code",
        "colab": {}
      },
      "source": [
        "#datasets available: apple2orange, summer2winter_yosemite, horse2zebra, monet2photo, cezanne2photo, ukiyoe2photo, vangogh2photo, maps, cityscapes, facades, iphone2dslr_flower, ae_photos, grumpifycat\n",
        "dataset = \"horse2zebra\"\n",
        "#example: download the russian blue cats to grumpy cats dataset\n",
        "!bash ./datasets/download_cut_dataset.sh $dataset"
      ],
      "execution_count": null,
      "outputs": []
    },
    {
      "cell_type": "markdown",
      "metadata": {
        "id": "IriT_YgSdQ-z",
        "colab_type": "text"
      },
      "source": [
        "## Train\n"
      ]
    },
    {
      "cell_type": "code",
      "metadata": {
        "id": "oycbT_1odWFf",
        "colab_type": "code",
        "colab": {}
      },
      "source": [
        "dataset_path = './datasets/horse2zebra'\n",
        "project_name = 'horse2zebra_CUT'\n",
        "load_size = 286\n",
        "crop_size = 256"
      ],
      "execution_count": null,
      "outputs": []
    },
    {
      "cell_type": "code",
      "metadata": {
        "id": "Aa_XrrrmddF7",
        "colab_type": "code",
        "colab": {}
      },
      "source": [
        "!python train.py --dataroot $dataset_path --name $project_name --CUT_mode CUT --load_size $load_size --crop_size $crop_size --display_id 0"
      ],
      "execution_count": null,
      "outputs": []
    },
    {
      "cell_type": "code",
      "metadata": {
        "id": "d86nrzqbDZTs",
        "colab_type": "code",
        "colab": {}
      },
      "source": [
        "!ls ./checkpoints/horse2zebra_CUT/"
      ],
      "execution_count": null,
      "outputs": []
    },
    {
      "cell_type": "code",
      "metadata": {
        "id": "7I8v8p6qa8bN",
        "colab_type": "code",
        "colab": {}
      },
      "source": [
        "from google.colab import files\n",
        "files.download('./checkpoints/horse2zebra_CUT/latest_net_F.pth')"
      ],
      "execution_count": null,
      "outputs": []
    },
    {
      "cell_type": "markdown",
      "metadata": {
        "id": "AbBSlniqPEiK",
        "colab_type": "text"
      },
      "source": [
        "##Test\n",
        "\n",
        "\n",
        "\n",
        "*   `--num_test`: how many test images to produce\n",
        "*   `--direction`: `AtoB` or `BtoA`\n",
        "\n",
        "\n",
        "\n"
      ]
    },
    {
      "cell_type": "code",
      "metadata": {
        "id": "7vgnZhxLOEHf",
        "colab_type": "code",
        "colab": {}
      },
      "source": [
        "!python test.py --dataroot ./datasets/horse2zebra/ --name horse2zebra_CUT --CUT_mode CUT"
      ],
      "execution_count": null,
      "outputs": []
    },
    {
      "cell_type": "code",
      "metadata": {
        "id": "gcp7SF1cFSdm",
        "colab_type": "code",
        "colab": {}
      },
      "source": [
        ""
      ],
      "execution_count": null,
      "outputs": []
    }
  ]
}