{
  "nbformat": 4,
  "nbformat_minor": 0,
  "metadata": {
    "colab": {
      "name": "Intro to Colab.ipynb",
      "provenance": [],
      "toc_visible": true,
      "authorship_tag": "ABX9TyMaPRbhOwgtxcUAUcONlreA",
      "include_colab_link": true
    },
    "kernelspec": {
      "name": "python3",
      "display_name": "Python 3"
    }
  },
  "cells": [
    {
      "cell_type": "markdown",
      "metadata": {
        "id": "view-in-github",
        "colab_type": "text"
      },
      "source": [
        "<a href=\"https://colab.research.google.com/github/dvschultz/Make-ML-Art-with-Google-Colab/blob/master/Intro_to_Colab.ipynb\" target=\"_parent\"><img src=\"https://colab.research.google.com/assets/colab-badge.svg\" alt=\"Open In Colab\"/></a>"
      ]
    },
    {
      "cell_type": "markdown",
      "metadata": {
        "id": "0woJTFbZK3H-",
        "colab_type": "text"
      },
      "source": [
        "# Intro to Colab\n",
        "\n",
        "This notebook will introduce you to some very basic Colab use. It won’t cover everything but will help you understand how Colab \"thinks.\"\n",
        "\n",
        "By Derrick Schultz for the Artificial Images’ Make ML Art with Google Colab course."
      ]
    },
    {
      "cell_type": "markdown",
      "metadata": {
        "id": "Csqot8iYLMla",
        "colab_type": "text"
      },
      "source": [
        "## Text vs code cells\n",
        "Colab contains two \"cell\" types: text cells and code cells. Text cells, like this one, use markdown to style text for reading. To edit a text cell double-click on it. The major text editing options are also provided to you with a GUI.\n",
        "\n",
        "Code cells, like the one below, allow you to run code on your Colab server. This is similar to using the command line where a cell runs like a text command. There are a couple unique tricks to code cells but we’ll touch on those in a minute. To run a code cell, click into the cell and press `Shift` + `Return` (you can also press the play icon in the upper left-hand corner but that will quickly feel inefficient).\n",
        "\n",
        "(FYI, Colab is based on [Jupyter](https://jupyter.org/) notebooks and almost all of the conventions Jupyter uses can bee used in Colab.)"
      ]
    },
    {
      "cell_type": "code",
      "metadata": {
        "id": "YwVqhtUCKyu_",
        "colab_type": "code",
        "colab": {
          "base_uri": "https://localhost:8080/",
          "height": 34
        },
        "outputId": "a4f56ebe-1f59-4503-d115-953d127987b0"
      },
      "source": [
        "print('you just ran a code cell!')"
      ],
      "execution_count": 2,
      "outputs": [
        {
          "output_type": "stream",
          "text": [
            "you just ran a code cell!\n"
          ],
          "name": "stdout"
        }
      ]
    },
    {
      "cell_type": "markdown",
      "metadata": {
        "id": "xfnxcVfmMYHe",
        "colab_type": "text"
      },
      "source": [
        "When you run a code cell content will often be output below the cell. Sometimes its a lot of text, sometimes its a little (sometimes there’s none!). \n",
        "\n",
        "When the cell is still processing there will be a spinning visual around the play button. **You can’t run more than one cell at a time.** This is important to remember. You can queue up cells, but they will always run seequentially.\n",
        "\n",
        "Code cells can contain variables and these variables can be used in other cells. Two important things to remember. You must run the cell to save the variables, and if you override the variables in another run cell it will be changed globally.\n",
        "\n",
        "Edit the numbers in the cell below and then run the command."
      ]
    },
    {
      "cell_type": "code",
      "metadata": {
        "id": "Udrgvj0BMTBj",
        "colab_type": "code",
        "colab": {}
      },
      "source": [
        "first_number = 12\n",
        "second_number = 25"
      ],
      "execution_count": 4,
      "outputs": []
    },
    {
      "cell_type": "markdown",
      "metadata": {
        "id": "RAIWTle_N4JC",
        "colab_type": "text"
      },
      "source": [
        "Now run the next cell to use the variables you set previously.\n",
        "\n",
        "(Colab works best with Python. For this course we’ll be working with mostly setting and using variables and not much else. Since we’ll be using code writteen by others for most of this course you don’t need to know Python, but being good at Googling for answers is always helpful.)"
      ]
    },
    {
      "cell_type": "code",
      "metadata": {
        "id": "FaR57igxNkp3",
        "colab_type": "code",
        "colab": {
          "base_uri": "https://localhost:8080/",
          "height": 34
        },
        "outputId": "0329f2d9-d556-4cc2-98f1-66a5c1263da0"
      },
      "source": [
        "print('{} plus {} equals: {}'.format(first_number, second_number, (first_number + second_number)) )"
      ],
      "execution_count": 15,
      "outputs": [
        {
          "output_type": "stream",
          "text": [
            "12 plus 30 equals: 42\n"
          ],
          "name": "stdout"
        }
      ]
    },
    {
      "cell_type": "markdown",
      "metadata": {
        "id": "IhetRPzOPSyp",
        "colab_type": "text"
      },
      "source": [
        "While many times you will run cells in the order they appear in a notebook, be aware that you can run cells in any sequence. This can get pretty confusing if you don’t pay attention. Edit the next cell, and then run the cell just above this one again."
      ]
    },
    {
      "cell_type": "code",
      "metadata": {
        "id": "q3USpsJKOJB_",
        "colab_type": "code",
        "colab": {}
      },
      "source": [
        "second_number = 30"
      ],
      "execution_count": 14,
      "outputs": []
    },
    {
      "cell_type": "markdown",
      "metadata": {
        "id": "4BfWvhlXQp5R",
        "colab_type": "text"
      },
      "source": [
        "Now you’ve got the same variable floating in two different cells! Don’t do this! (But I often make this mistake). But it shows both the power and the curse of Colab notebooks. Many notebook creators will have a cell for variables they use frequently so you don’t have them strewn across cells.\n",
        "\n",
        "One small help Colab provides is a small number in brackets in the upper lefthand corner of code cells to tell you the order in which a cell ran (`[1]` came before `[2]`, etc.)"
      ]
    },
    {
      "cell_type": "markdown",
      "metadata": {
        "id": "dwZBDJtrRZIG",
        "colab_type": "text"
      },
      "source": [
        "##CPUs and GPUs and TPUs oh my!\n",
        "(We won’t be using TPUs in this class, but it worked better with it in there.)\n",
        "\n",
        "By default all Colab notebooks spin up a server when run. The type of the server you run depends on a setting in your notebook. The default is to use a server that relies on a CPU. For pretty much all of our class we’re going to need to use a GPU, however. (This gets pretty complicated, but most deep machine learning models require a GPU).\n",
        "\n",
        "To change to a GPU, click on `Runtime` then `Change runtime type` and set `Hardware accelerator` to `GPU`. Note: if it wasn’t already set to `GPU` you will lose any files you have uploaded and any variables that were saved when you ran code cells. When you switch modes you are effectively switching servers. Because of this I recommend you make sure you’ree using the right server setting before you start running cells in a notebook.\n",
        "\n",
        "Can you tell if you’re using a CPU or GPU in code? Kind of. Run the cell below in CPU mode, then switch to GPU and run it again."
      ]
    },
    {
      "cell_type": "code",
      "metadata": {
        "id": "WQlXz2c6Qkr8",
        "colab_type": "code",
        "colab": {
          "base_uri": "https://localhost:8080/",
          "height": 357
        },
        "outputId": "af78ebfc-9248-49fd-a738-b66686fbc362"
      },
      "source": [
        "!nvidia-smi"
      ],
      "execution_count": 2,
      "outputs": [
        {
          "output_type": "stream",
          "text": [
            "Wed Aug  5 06:34:17 2020       \n",
            "+-----------------------------------------------------------------------------+\n",
            "| NVIDIA-SMI 450.57       Driver Version: 418.67       CUDA Version: 10.1     |\n",
            "|-------------------------------+----------------------+----------------------+\n",
            "| GPU  Name        Persistence-M| Bus-Id        Disp.A | Volatile Uncorr. ECC |\n",
            "| Fan  Temp  Perf  Pwr:Usage/Cap|         Memory-Usage | GPU-Util  Compute M. |\n",
            "|                               |                      |               MIG M. |\n",
            "|===============================+======================+======================|\n",
            "|   0  Tesla K80           Off  | 00000000:00:04.0 Off |                    0 |\n",
            "| N/A   72C    P8    32W / 149W |      0MiB / 11441MiB |      0%      Default |\n",
            "|                               |                      |                 ERR! |\n",
            "+-------------------------------+----------------------+----------------------+\n",
            "                                                                               \n",
            "+-----------------------------------------------------------------------------+\n",
            "| Processes:                                                                  |\n",
            "|  GPU   GI   CI        PID   Type   Process name                  GPU Memory |\n",
            "|        ID   ID                                                   Usage      |\n",
            "|=============================================================================|\n",
            "|  No running processes found                                                 |\n",
            "+-----------------------------------------------------------------------------+\n"
          ],
          "name": "stdout"
        }
      ]
    },
    {
      "cell_type": "markdown",
      "metadata": {
        "id": "Gay8gUXPTFWt",
        "colab_type": "text"
      },
      "source": [
        "If you got If you got `NVIDIA-SMI has failed because it couldn't communicate with the NVIDIA driver. Make sure that the latest NVIDIA driver is installed and running.` you’re in CPU mode. If you got an ASCII art table with some numbers and things in it you’re using a GPU."
      ]
    },
    {
      "cell_type": "markdown",
      "metadata": {
        "id": "YK__uYZHTXQv",
        "colab_type": "text"
      },
      "source": [
        "### GPUs offered by Colab\n",
        "\n",
        "Here’s where things get more complicated. Colab offers a couple different GPUs and what GPU you are given can affect certain tasks. This is another reason why you may want to pay for Colab Pro, as it offers you the best GPUs by default.\n",
        "\n",
        "*   **P100**: 16GB of VRAM, the best(?)\n",
        "*   **T4**: ~15GB of VRAM\n",
        "*   **K80**: ~12GB of VRAM, the worst(?)\n",
        "\n",
        "For most inference/testing we’ll be doing in this class a K80 will still work but likely be slower. If you want to try training your own models in Colab I really recommend investing in Colab Pro (if you can).\n",
        "\n",
        "\n",
        "\n",
        "\n"
      ]
    },
    {
      "cell_type": "markdown",
      "metadata": {
        "id": "V1Krb70sVFlk",
        "colab_type": "text"
      },
      "source": [
        "## What else can Colab do?\n",
        "Honestly, for most of this course this is about all you need to know about Colab. I’ve created a snippets file for some code snippets I commonly use that may help you in creating new files. You’ll see many of the same techniques/snippets show up in many of my files.\n",
        "\n",
        "Here are a couple other things that make Colab special."
      ]
    },
    {
      "cell_type": "markdown",
      "metadata": {
        "id": "rlbtQHUEVyK6",
        "colab_type": "text"
      },
      "source": [
        "###Google Drive integration\n",
        "Since its all one big family/monopoly, Colab plays pretty nicely with Google Drive. You can actually \"mount\" Drive in a Colab notebook to access it like you would any file on a server.\n",
        "\n",
        "Run the cell below and follow the steps given to you in the output."
      ]
    },
    {
      "cell_type": "code",
      "metadata": {
        "id": "LiUtxuwiVvXW",
        "colab_type": "code",
        "colab": {}
      },
      "source": [
        "from google.colab import drive\n",
        "drive.mount('/content/drive')"
      ],
      "execution_count": null,
      "outputs": []
    },
    {
      "cell_type": "markdown",
      "metadata": {
        "id": "TrrZuLVeWbd1",
        "colab_type": "text"
      },
      "source": [
        "###GUI outputs, plots, etc\n",
        "Unlike the command line, Colab operates as a CLI and a webpage/GUI. This means you can introduce web elements and GUI elements in your notebooks. I personally tend to not do this as much, but we will look at some notebooks in class that make extensive use of these features, and they can be really helpful. \n",
        "\n",
        "Another common feature of notebooks is plotting and chart visualizations. If you’ve ever used matplot or similar packages, you can use natively in Colab. We’ll look at an example or two of this in the class as well."
      ]
    },
    {
      "cell_type": "markdown",
      "metadata": {
        "id": "YcWSFcoaXqJ6",
        "colab_type": "text"
      },
      "source": [
        "### A note on Jupyter notebook conversion\n",
        "Colab can open any file that ends in `.ipynb`. You will likely find some of these files in various GitHub repos. It’s important to know that many times these are Jupyter notebooks and not Colab notebooks.\n",
        "\n",
        "Jupyter notebooks are usually run from _inside_ a repo (i.e. someone is running them on their own server) which usually means the notebook does not contain the code required to install all the necessary libraries. This is usually the biggest change when converting a Jupyter notebook to a Colab notebook. It’s often an easy thing to fix but if you assume any `.ipynb` file will immediately run in Colab you may be in for a surprise.\n"
      ]
    },
    {
      "cell_type": "markdown",
      "metadata": {
        "id": "YN6GUEI4Yyhq",
        "colab_type": "text"
      },
      "source": [
        "#OK, Can I just make stuff now?\n",
        "Yes, I think you have enough knowledge now to get yourself in trouble.\n",
        "\n",
        "I’ve compiled [a list of ML art notebooks](https://github.com/dvschultz/ml-art-colabs) I think are fun to play with. Have at it."
      ]
    }
  ]
}