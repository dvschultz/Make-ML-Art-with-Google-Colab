{
  "nbformat": 4,
  "nbformat_minor": 0,
  "metadata": {
    "colab": {
      "name": "Snippets.ipynb",
      "provenance": [],
      "toc_visible": true,
      "authorship_tag": "ABX9TyMYWvCcwWrtBcgofPkoPHL3",
      "include_colab_link": true
    },
    "kernelspec": {
      "name": "python3",
      "display_name": "Python 3"
    }
  },
  "cells": [
    {
      "cell_type": "markdown",
      "metadata": {
        "id": "view-in-github",
        "colab_type": "text"
      },
      "source": [
        "<a href=\"https://colab.research.google.com/github/dvschultz/Make-ML-Art-with-Google-Colab/blob/master/Snippets.ipynb\" target=\"_parent\"><img src=\"https://colab.research.google.com/assets/colab-badge.svg\" alt=\"Open In Colab\"/></a>"
      ]
    },
    {
      "cell_type": "markdown",
      "metadata": {
        "id": "IOd4dR7aqKop",
        "colab_type": "text"
      },
      "source": [
        "#Custom Colab Snippets\n",
        "A bunch of snippets I find I use very often in Colab that I often have to Google."
      ]
    },
    {
      "cell_type": "markdown",
      "metadata": {
        "id": "9m_-jkIdnAiN",
        "colab_type": "text"
      },
      "source": [
        "#_Mount Google Drive"
      ]
    },
    {
      "cell_type": "code",
      "metadata": {
        "id": "Zh7JhYOKm9ue",
        "colab_type": "code",
        "colab": {}
      },
      "source": [
        "from google.colab import drive\n",
        "drive.mount('/content/drive')"
      ],
      "execution_count": null,
      "outputs": []
    },
    {
      "cell_type": "markdown",
      "metadata": {
        "id": "mOFkRju8mvQn",
        "colab_type": "text"
      },
      "source": [
        "#_Move files from Colab to Google Drive"
      ]
    },
    {
      "cell_type": "code",
      "metadata": {
        "id": "rMqAxCB9msZa",
        "colab_type": "code",
        "colab": {}
      },
      "source": [
        "!mv -T path/to/colab/folder /content/drive/My\\ Drive/folder_name"
      ],
      "execution_count": null,
      "outputs": []
    },
    {
      "cell_type": "markdown",
      "metadata": {
        "id": "PTX1w6m7_C8_",
        "colab_type": "text"
      },
      "source": [
        "#_Get GPU Information"
      ]
    },
    {
      "cell_type": "code",
      "metadata": {
        "id": "qpMfCR0T_OKa",
        "colab_type": "code",
        "colab": {}
      },
      "source": [
        "!nvidia-smi"
      ],
      "execution_count": null,
      "outputs": []
    },
    {
      "cell_type": "markdown",
      "metadata": {
        "id": "ihz_ViXzqS1A",
        "colab_type": "text"
      },
      "source": [
        "\n",
        "\n",
        "#_Remove files"
      ]
    },
    {
      "cell_type": "code",
      "metadata": {
        "id": "svg5NQtSqVtQ",
        "colab_type": "code",
        "colab": {}
      },
      "source": [
        "#remove files (the * indicates a wildcard)\n",
        "!rm /path/to/files/*.*\n",
        "\n",
        "#remove folder and files inside that folder\n",
        "!rm -r /path/to/folder"
      ],
      "execution_count": null,
      "outputs": []
    },
    {
      "cell_type": "markdown",
      "metadata": {
        "id": "DyiuFUljnKfo",
        "colab_type": "text"
      },
      "source": [
        "#_Show Images in Colab"
      ]
    },
    {
      "cell_type": "code",
      "metadata": {
        "id": "fiW_U5QRoGL1",
        "colab_type": "code",
        "colab": {}
      },
      "source": [
        "#Images\n",
        "from IPython.display import Image, display\n",
        "\n",
        "listOfImageNames = ['/content/stylegan2/results/00000-generate-images/seed0001.png',\n",
        "                    '/content/stylegan2/results/00000-generate-images/seed0011.png',\n",
        "                    '/content/stylegan2/results/00000-generate-images/seed0021.png',\n",
        "                    '/content/stylegan2/results/00000-generate-images/seed0031.png',\n",
        "                    '/content/stylegan2/results/00000-generate-images/seed0041.png',\n",
        "                    ]\n",
        "\n",
        "for imageName in listOfImageNames:\n",
        "    display(Image(filename=imageName, width=400))"
      ],
      "execution_count": null,
      "outputs": []
    },
    {
      "cell_type": "markdown",
      "metadata": {
        "id": "yrgZhIOGNYZ3",
        "colab_type": "text"
      },
      "source": [
        "#_Play Videos in Colab"
      ]
    },
    {
      "cell_type": "code",
      "metadata": {
        "id": "b5b86BYanJKn",
        "colab_type": "code",
        "colab": {}
      },
      "source": [
        "#Videos (thanks Kaitlin Schaer!)\n",
        "def show_local_mp4_video(file_name, width=640, height=480):\n",
        "  import io\n",
        "  import base64\n",
        "  from IPython.display import HTML\n",
        "  video_encoded = base64.b64encode(io.open(file_name, 'rb').read())\n",
        "  return HTML(data='''<video width=\"{0}\" height=\"{1}\" alt=\"test\" controls>\n",
        "                        <source src=\"data:video/mp4;base64,{2}\" type=\"video/mp4\" />\n",
        "                      </video>'''.format(width, height, video_encoded.decode('ascii')))\n",
        "\n",
        "show_local_mp4_video('output.mp4', width=960, height=720)"
      ],
      "execution_count": null,
      "outputs": []
    },
    {
      "cell_type": "markdown",
      "metadata": {
        "id": "geg590hQ_TRq",
        "colab_type": "text"
      },
      "source": [
        "#_Zip folder and files inside folder"
      ]
    },
    {
      "cell_type": "code",
      "metadata": {
        "id": "KlwNmuYA_6ne",
        "colab_type": "code",
        "colab": {}
      },
      "source": [
        "!zip -r filename.zip /path/to/folder"
      ],
      "execution_count": null,
      "outputs": []
    },
    {
      "cell_type": "markdown",
      "metadata": {
        "id": "m7kmlIIlmZCa",
        "colab_type": "text"
      },
      "source": [
        "# _Use Tensorflow 1"
      ]
    },
    {
      "cell_type": "code",
      "metadata": {
        "id": "e3VkCw7hmYi3",
        "colab_type": "code",
        "colab": {}
      },
      "source": [
        "%tensorflow_version 1.x"
      ],
      "execution_count": null,
      "outputs": []
    },
    {
      "cell_type": "markdown",
      "metadata": {
        "id": "lNPoxkaKfLyV",
        "colab_type": "text"
      },
      "source": [
        "# _Unzip zip file"
      ]
    },
    {
      "cell_type": "code",
      "metadata": {
        "id": "79UIhGXBc5rY",
        "colab_type": "code",
        "colab": {}
      },
      "source": [
        "!unzip /path/to/file.zip"
      ],
      "execution_count": null,
      "outputs": []
    },
    {
      "cell_type": "markdown",
      "metadata": {
        "id": "DUhy4rEkf3Vv",
        "colab_type": "text"
      },
      "source": [
        "# _Download File from Google Drive\n",
        "In Google Drive, right-click on your file and choose \"Get shareable link\". Make sure you change the settings on the file to \"Anyone with the link\" and then copy the link path. \n",
        "\n",
        "Next, paste the path in after the `--id` command. You’ll want to remove all of the url besides the ID itself. The ID is a string of numbers and letters that is illegible.\n",
        "\n"
      ]
    },
    {
      "cell_type": "code",
      "metadata": {
        "id": "djbWvlIKf7Pv",
        "colab_type": "code",
        "colab": {}
      },
      "source": [
        "#download file and keep its name\n",
        "!gdown --id [id of file]\n",
        "\n",
        "#optional: change the name of the file when it downloads\n",
        "!gdown --id [id of file] -O /path/filename.ext"
      ],
      "execution_count": null,
      "outputs": []
    }
  ]
}