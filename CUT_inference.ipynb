{
  "nbformat": 4,
  "nbformat_minor": 0,
  "metadata": {
    "colab": {
      "name": "CUT-inference.ipynb",
      "provenance": [],
      "machine_shape": "hm",
      "authorship_tag": "ABX9TyO4yvBnsey1oCrZgKsvdcQz",
      "include_colab_link": true
    },
    "kernelspec": {
      "name": "python3",
      "display_name": "Python 3"
    },
    "accelerator": "GPU"
  },
  "cells": [
    {
      "cell_type": "markdown",
      "metadata": {
        "id": "view-in-github",
        "colab_type": "text"
      },
      "source": [
        "<a href=\"https://colab.research.google.com/github/dvschultz/Make-ML-Art-with-Google-Colab/blob/master/CUT_inference.ipynb\" target=\"_parent\"><img src=\"https://colab.research.google.com/assets/colab-badge.svg\" alt=\"Open In Colab\"/></a>"
      ]
    },
    {
      "cell_type": "markdown",
      "metadata": {
        "id": "TVR4bEt9Ptel",
        "colab_type": "text"
      },
      "source": [
        "#CUT\n",
        "This new model uses contrastive learning (the hot technique of the moment) to better train unaligned image to image translation (i.e. CycleGAN)\n",
        "\n",
        "[GitHub](https://github.com/taesungp/contrastive-unpaired-translation) | [Website](http://taesung.me/ContrastiveUnpairedTranslation/)"
      ]
    },
    {
      "cell_type": "code",
      "metadata": {
        "id": "OHt7jlAPKw2l",
        "colab_type": "code",
        "colab": {}
      },
      "source": [
        "!git clone https://github.com/taesungp/contrastive-unpaired-translation CUT\n",
        "!pip install dominate visdom GPUtil\n",
        "%cd CUT"
      ],
      "execution_count": null,
      "outputs": []
    },
    {
      "cell_type": "markdown",
      "metadata": {
        "id": "n1tdZoGaMOGf",
        "colab_type": "text"
      },
      "source": [
        "## Download pre-built datasets\n",
        "\n",
        "**For custom datasets:** create a folder in `./datasets` and put two folders inside it. `trainA` should contain images from one domain and `trainB` should contain images from another domain. "
      ]
    },
    {
      "cell_type": "code",
      "metadata": {
        "id": "uRI0XL6xK386",
        "colab_type": "code",
        "colab": {}
      },
      "source": [
        "#datasets available: apple2orange, summer2winter_yosemite, horse2zebra, monet2photo, cezanne2photo, ukiyoe2photo, vangogh2photo, maps, cityscapes, facades, iphone2dslr_flower, ae_photos, grumpifycat\n",
        "dataset = \"horse2zebra\"\n",
        "#example: download the russian blue cats to grumpy cats dataset\n",
        "!bash ./datasets/download_cut_dataset.sh $dataset"
      ],
      "execution_count": null,
      "outputs": []
    },
    {
      "cell_type": "markdown",
      "metadata": {
        "id": "IriT_YgSdQ-z",
        "colab_type": "text"
      },
      "source": [
        "## Train\n"
      ]
    },
    {
      "cell_type": "code",
      "metadata": {
        "id": "oycbT_1odWFf",
        "colab_type": "code",
        "colab": {}
      },
      "source": [
        "dataset_path = './datasets/horse2zebra'\n",
        "project_name = 'horse2zebra_CUT'\n",
        "load_size = 286\n",
        "crop_size = 256"
      ],
      "execution_count": 8,
      "outputs": []
    },
    {
      "cell_type": "code",
      "metadata": {
        "id": "Aa_XrrrmddF7",
        "colab_type": "code",
        "colab": {}
      },
      "source": [
        "!python train.py --dataroot $dataset_path --name $project_name --CUT_mode CUT --load_size $load_size --crop_size $crop_size --display_id 0"
      ],
      "execution_count": null,
      "outputs": []
    },
    {
      "cell_type": "code",
      "metadata": {
        "id": "d86nrzqbDZTs",
        "colab_type": "code",
        "colab": {}
      },
      "source": [
        "!ls ./checkpoints/horse2zebra_CUT/"
      ],
      "execution_count": null,
      "outputs": []
    },
    {
      "cell_type": "code",
      "metadata": {
        "id": "7I8v8p6qa8bN",
        "colab_type": "code",
        "colab": {
          "base_uri": "https://localhost:8080/",
          "height": 34
        },
        "outputId": "b4272cd3-a272-49b0-e894-feab05b6cedc"
      },
      "source": [
        "from google.colab import files\n",
        "files.download('./checkpoints/horse2zebra_CUT/latest_net_F.pth')"
      ],
      "execution_count": 27,
      "outputs": [
        {
          "output_type": "display_data",
          "data": {
            "application/javascript": [
              "\n",
              "    async function download(id, filename, size) {\n",
              "      if (!google.colab.kernel.accessAllowed) {\n",
              "        return;\n",
              "      }\n",
              "      const div = document.createElement('div');\n",
              "      const label = document.createElement('label');\n",
              "      label.textContent = `Downloading \"${filename}\": `;\n",
              "      div.appendChild(label);\n",
              "      const progress = document.createElement('progress');\n",
              "      progress.max = size;\n",
              "      div.appendChild(progress);\n",
              "      document.body.appendChild(div);\n",
              "\n",
              "      const buffers = [];\n",
              "      let downloaded = 0;\n",
              "\n",
              "      const channel = await google.colab.kernel.comms.open(id);\n",
              "      // Send a message to notify the kernel that we're ready.\n",
              "      channel.send({})\n",
              "\n",
              "      for await (const message of channel.messages) {\n",
              "        // Send a message to notify the kernel that we're ready.\n",
              "        channel.send({})\n",
              "        if (message.buffers) {\n",
              "          for (const buffer of message.buffers) {\n",
              "            buffers.push(buffer);\n",
              "            downloaded += buffer.byteLength;\n",
              "            progress.value = downloaded;\n",
              "          }\n",
              "        }\n",
              "      }\n",
              "      const blob = new Blob(buffers, {type: 'application/binary'});\n",
              "      const a = document.createElement('a');\n",
              "      a.href = window.URL.createObjectURL(blob);\n",
              "      a.download = filename;\n",
              "      div.appendChild(a);\n",
              "      a.click();\n",
              "      div.remove();\n",
              "    }\n",
              "  "
            ],
            "text/plain": [
              "<IPython.core.display.Javascript object>"
            ]
          },
          "metadata": {
            "tags": []
          }
        },
        {
          "output_type": "display_data",
          "data": {
            "application/javascript": [
              "download(\"download_0c53d05f-e4dc-492c-a243-ea4f6f9718ff\", \"latest_net_F.pth\", 2248147)"
            ],
            "text/plain": [
              "<IPython.core.display.Javascript object>"
            ]
          },
          "metadata": {
            "tags": []
          }
        }
      ]
    },
    {
      "cell_type": "markdown",
      "metadata": {
        "id": "AbBSlniqPEiK",
        "colab_type": "text"
      },
      "source": [
        "##Test\n",
        "\n",
        "\n",
        "\n",
        "*   `--num_test`: how many test images to produce\n",
        "*   `--direction`: `AtoB` or `BtoA`\n",
        "\n",
        "\n",
        "\n"
      ]
    },
    {
      "cell_type": "code",
      "metadata": {
        "id": "7vgnZhxLOEHf",
        "colab_type": "code",
        "colab": {}
      },
      "source": [
        "!python test.py --dataroot ./datasets/horse2zebra/ --name horse2zebra_CUT --CUT_mode CUT"
      ],
      "execution_count": null,
      "outputs": []
    },
    {
      "cell_type": "code",
      "metadata": {
        "id": "gcp7SF1cFSdm",
        "colab_type": "code",
        "colab": {}
      },
      "source": [
        ""
      ],
      "execution_count": 26,
      "outputs": []
    }
  ]
}